{
 "cells": [
  {
   "cell_type": "code",
   "execution_count": null,
   "metadata": {},
   "outputs": [],
   "source": [
    "import bittensor as bt\n",
    "\n",
    "sub = bt.subtensor('wss://archive.chain.opentensor.ai:443/')\n",
    "\n",
    "# Get the current block number\n",
    "current_block = sub.substrate.get_block_number(None)\n",
    "\n",
    "# Calculate the starting block number (current block - 10,000)\n",
    "start_block = max(0, current_block - 100)\n",
    "\n",
    "block_data = {}\n",
    "\n",
    "block_hash = sub.substrate.get_block_hash(block_number)\n",
    "print(f\"Processing block {block_number} ({block_hash})\")\n",
    "\n",
    "# Query the incentives for the current block\n",
    "incentives = {}\n",
    "for rec in sub.substrate.query_map(\n",
    "    module=\"SubtensorModule\",\n",
    "    storage_function='Incentive',\n",
    "    params=[],\n",
    "    block_hash=block_hash,\n",
    ").records:\n",
    "    incentives[str(rec[0])] = rec[1]"
   ]
  }
 ],
 "metadata": {
  "language_info": {
   "name": "python"
  }
 },
 "nbformat": 4,
 "nbformat_minor": 2
}
