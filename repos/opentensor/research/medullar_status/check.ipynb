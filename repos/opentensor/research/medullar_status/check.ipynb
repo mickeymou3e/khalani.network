{
 "cells": [
  {
   "cell_type": "code",
   "execution_count": 1,
   "metadata": {},
   "outputs": [
    {
     "name": "stdout",
     "output_type": "stream",
     "text": [
      "SN 15 in immunity period\n",
      "SN 38 in immunity period\n"
     ]
    }
   ],
   "source": [
    "import bittensor as bt\n",
    "from substrateinterface import SubstrateInterface\n",
    "\n",
    "substrate = SubstrateInterface(\n",
    "    url=\"wss://archive.chain.opentensor.ai:443/\",\n",
    "    ss58_format=42,\n",
    "    type_registry_preset='legacy'\n",
    ")\n",
    "\n",
    "subtensor = bt.subtensor(network=\"wss://archive.chain.opentensor.ai:443\")\n",
    "\n",
    "current_block = substrate.get_block()['header']['number']\n",
    "\n",
    "block_hash = substrate.get_block_hash(current_block)\n",
    "\n",
    "network_immunity_period = substrate.query(\n",
    "        \"SubtensorModule\", \n",
    "        \"NetworkImmunityPeriod\", \n",
    "        block_hash=block_hash\n",
    "    )\n",
    "\n",
    "\n",
    "def query_storage(name, block):\n",
    "    block_hash = substrate.get_block_hash(block)\n",
    "    liquid_alpha_on = []\n",
    "    for netuid in range(45):\n",
    "        result = substrate.query(\n",
    "            \"SubtensorModule\", \n",
    "            name, \n",
    "            params = [netuid],\n",
    "            block_hash=block_hash\n",
    "        )\n",
    "        liquid_alpha_on.append(result.value)\n",
    "    return liquid_alpha_on\n",
    "\n",
    "network_registered_block = query_storage(\"NetworkRegisteredAt\", current_block)\n",
    "\n",
    "for netuid, block in enumerate(network_registered_block):\n",
    "    if current_block - block < network_immunity_period:\n",
    "        print(f\"SN {netuid} in immunity period\")"
   ]
  },
  {
   "cell_type": "code",
   "execution_count": 24,
   "metadata": {},
   "outputs": [],
   "source": [
    "# commit_reveal_on = query_storage(\"CommitRevealWeightsEnabled\", current_block)\n",
    "# liquid_alpha_on = query_storage(\"LiquidAlphaOn\", current_block)\n",
    "last_adjustment_block = query_storage(\"LastAdjustmentBlock\", current_block)\n",
    "last_adjustment_block_2 = query_storage(\"LastAdjustmentBlock\", current_block - 360)\n",
    "block_since_last_step = query_storage(\"BlocksSinceLastStep\", current_block)\n",
    "tempo = query_storage(\"Tempo\", current_block)"
   ]
  }
 ],
 "metadata": {
  "kernelspec": {
   "display_name": "Python 3",
   "language": "python",
   "name": "python3"
  },
  "language_info": {
   "codemirror_mode": {
    "name": "ipython",
    "version": 3
   },
   "file_extension": ".py",
   "mimetype": "text/x-python",
   "name": "python",
   "nbconvert_exporter": "python",
   "pygments_lexer": "ipython3",
   "version": "3.10.12"
  }
 },
 "nbformat": 4,
 "nbformat_minor": 2
}
